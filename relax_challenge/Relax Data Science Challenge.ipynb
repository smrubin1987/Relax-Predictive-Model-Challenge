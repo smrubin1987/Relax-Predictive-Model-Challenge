{
 "cells": [
  {
   "cell_type": "markdown",
   "metadata": {},
   "source": [
    "**Relax \"adopted user\" predictive model challenge**"
   ]
  },
  {
   "cell_type": "markdown",
   "metadata": {},
   "source": [
    "**Import packages | Import datasets**"
   ]
  },
  {
   "cell_type": "code",
   "execution_count": 1,
   "metadata": {},
   "outputs": [],
   "source": [
    "import pandas as pd\n",
    "import numpy as np\n",
    "import matplotlib.pyplot as plt\n",
    "import seaborn as sns\n",
    "import datetime\n",
    "\n",
    "#import two datasets as .csv; read as pandas dataframes\n",
    "df_engagement = pd.read_csv(\"C:/Users/srubin/Desktop/Springboard/relax_challenge/takehome_user_engagement.csv\")\n",
    "df_users = pd.read_csv(\"C:/Users/srubin/Desktop/Springboard/relax_challenge/takehome_users.csv\", engine='python')"
   ]
  },
  {
   "cell_type": "markdown",
   "metadata": {},
   "source": [
    "**Exploring the dataset**"
   ]
  },
  {
   "cell_type": "code",
   "execution_count": null,
   "metadata": {
    "scrolled": true
   },
   "outputs": [],
   "source": [
    "#df_engagement dataset exploration\n",
    "print(df_engagement.head())\n",
    "print(\" \")\n",
    "print(\"dataframe shape: \" + str(df_engagement.shape))\n",
    "print(\" \")\n",
    "print(\"NaN values: \" + str(df_engagement.isna().sum()))\n",
    "print(\" \")\n",
    "print(df_engagement.dtypes)"
   ]
  },
  {
   "cell_type": "code",
   "execution_count": 6,
   "metadata": {
    "scrolled": true
   },
   "outputs": [
    {
     "name": "stdout",
     "output_type": "stream",
     "text": [
      "<class 'pandas.core.frame.DataFrame'>\n",
      "RangeIndex: 207917 entries, 0 to 207916\n",
      "Data columns (total 3 columns):\n",
      " #   Column      Non-Null Count   Dtype \n",
      "---  ------      --------------   ----- \n",
      " 0   time_stamp  207917 non-null  object\n",
      " 1   user_id     207917 non-null  int64 \n",
      " 2   visited     207917 non-null  int64 \n",
      "dtypes: int64(2), object(1)\n",
      "memory usage: 4.0+ MB\n",
      "None\n",
      "---------------\n",
      "unique values: <bound method Series.unique of 0             1\n",
      "1             2\n",
      "2             2\n",
      "3             2\n",
      "4             2\n",
      "          ...  \n",
      "207912    11996\n",
      "207913    11997\n",
      "207914    11998\n",
      "207915    11999\n",
      "207916    12000\n",
      "Name: user_id, Length: 207917, dtype: int64>\n"
     ]
    }
   ],
   "source": [
    "print(df_engagement.info())\n",
    "print(\"---------------\")\n",
    "print(\"unique values: \" + str(df_engagement.user_id.unique))  #~12,000 unique 'user_id' values)"
   ]
  },
  {
   "cell_type": "code",
   "execution_count": 7,
   "metadata": {},
   "outputs": [
    {
     "data": {
      "text/html": [
       "<div>\n",
       "<style scoped>\n",
       "    .dataframe tbody tr th:only-of-type {\n",
       "        vertical-align: middle;\n",
       "    }\n",
       "\n",
       "    .dataframe tbody tr th {\n",
       "        vertical-align: top;\n",
       "    }\n",
       "\n",
       "    .dataframe thead th {\n",
       "        text-align: right;\n",
       "    }\n",
       "</style>\n",
       "<table border=\"1\" class=\"dataframe\">\n",
       "  <thead>\n",
       "    <tr style=\"text-align: right;\">\n",
       "      <th></th>\n",
       "      <th>object_id</th>\n",
       "      <th>creation_time</th>\n",
       "      <th>name</th>\n",
       "      <th>email</th>\n",
       "      <th>creation_source</th>\n",
       "      <th>last_session_creation_time</th>\n",
       "      <th>opted_in_to_mailing_list</th>\n",
       "      <th>enabled_for_marketing_drip</th>\n",
       "      <th>org_id</th>\n",
       "      <th>invited_by_user_id</th>\n",
       "    </tr>\n",
       "  </thead>\n",
       "  <tbody>\n",
       "    <tr>\n",
       "      <th>0</th>\n",
       "      <td>1</td>\n",
       "      <td>2014-04-22 03:53:30</td>\n",
       "      <td>Clausen August</td>\n",
       "      <td>AugustCClausen@yahoo.com</td>\n",
       "      <td>GUEST_INVITE</td>\n",
       "      <td>1.398139e+09</td>\n",
       "      <td>1</td>\n",
       "      <td>0</td>\n",
       "      <td>11</td>\n",
       "      <td>10803.0</td>\n",
       "    </tr>\n",
       "    <tr>\n",
       "      <th>1</th>\n",
       "      <td>2</td>\n",
       "      <td>2013-11-15 03:45:04</td>\n",
       "      <td>Poole Matthew</td>\n",
       "      <td>MatthewPoole@gustr.com</td>\n",
       "      <td>ORG_INVITE</td>\n",
       "      <td>1.396238e+09</td>\n",
       "      <td>0</td>\n",
       "      <td>0</td>\n",
       "      <td>1</td>\n",
       "      <td>316.0</td>\n",
       "    </tr>\n",
       "    <tr>\n",
       "      <th>2</th>\n",
       "      <td>3</td>\n",
       "      <td>2013-03-19 23:14:52</td>\n",
       "      <td>Bottrill Mitchell</td>\n",
       "      <td>MitchellBottrill@gustr.com</td>\n",
       "      <td>ORG_INVITE</td>\n",
       "      <td>1.363735e+09</td>\n",
       "      <td>0</td>\n",
       "      <td>0</td>\n",
       "      <td>94</td>\n",
       "      <td>1525.0</td>\n",
       "    </tr>\n",
       "    <tr>\n",
       "      <th>3</th>\n",
       "      <td>4</td>\n",
       "      <td>2013-05-21 08:09:28</td>\n",
       "      <td>Clausen Nicklas</td>\n",
       "      <td>NicklasSClausen@yahoo.com</td>\n",
       "      <td>GUEST_INVITE</td>\n",
       "      <td>1.369210e+09</td>\n",
       "      <td>0</td>\n",
       "      <td>0</td>\n",
       "      <td>1</td>\n",
       "      <td>5151.0</td>\n",
       "    </tr>\n",
       "    <tr>\n",
       "      <th>4</th>\n",
       "      <td>5</td>\n",
       "      <td>2013-01-17 10:14:20</td>\n",
       "      <td>Raw Grace</td>\n",
       "      <td>GraceRaw@yahoo.com</td>\n",
       "      <td>GUEST_INVITE</td>\n",
       "      <td>1.358850e+09</td>\n",
       "      <td>0</td>\n",
       "      <td>0</td>\n",
       "      <td>193</td>\n",
       "      <td>5240.0</td>\n",
       "    </tr>\n",
       "  </tbody>\n",
       "</table>\n",
       "</div>"
      ],
      "text/plain": [
       "   object_id        creation_time               name  \\\n",
       "0          1  2014-04-22 03:53:30     Clausen August   \n",
       "1          2  2013-11-15 03:45:04      Poole Matthew   \n",
       "2          3  2013-03-19 23:14:52  Bottrill Mitchell   \n",
       "3          4  2013-05-21 08:09:28    Clausen Nicklas   \n",
       "4          5  2013-01-17 10:14:20          Raw Grace   \n",
       "\n",
       "                        email creation_source  last_session_creation_time  \\\n",
       "0    AugustCClausen@yahoo.com    GUEST_INVITE                1.398139e+09   \n",
       "1      MatthewPoole@gustr.com      ORG_INVITE                1.396238e+09   \n",
       "2  MitchellBottrill@gustr.com      ORG_INVITE                1.363735e+09   \n",
       "3   NicklasSClausen@yahoo.com    GUEST_INVITE                1.369210e+09   \n",
       "4          GraceRaw@yahoo.com    GUEST_INVITE                1.358850e+09   \n",
       "\n",
       "   opted_in_to_mailing_list  enabled_for_marketing_drip  org_id  \\\n",
       "0                         1                           0      11   \n",
       "1                         0                           0       1   \n",
       "2                         0                           0      94   \n",
       "3                         0                           0       1   \n",
       "4                         0                           0     193   \n",
       "\n",
       "   invited_by_user_id  \n",
       "0             10803.0  \n",
       "1               316.0  \n",
       "2              1525.0  \n",
       "3              5151.0  \n",
       "4              5240.0  "
      ]
     },
     "execution_count": 7,
     "metadata": {},
     "output_type": "execute_result"
    }
   ],
   "source": [
    "df_users.head()"
   ]
  },
  {
   "cell_type": "code",
   "execution_count": 9,
   "metadata": {
    "scrolled": true
   },
   "outputs": [
    {
     "name": "stdout",
     "output_type": "stream",
     "text": [
      "dataframe shape: (12000, 10)\n",
      "-----------\n",
      "NaN values: object_id                        0\n",
      "creation_time                    0\n",
      "name                             0\n",
      "email                            0\n",
      "creation_source                  0\n",
      "last_session_creation_time    3177\n",
      "opted_in_to_mailing_list         0\n",
      "enabled_for_marketing_drip       0\n",
      "org_id                           0\n",
      "invited_by_user_id            5583\n",
      "dtype: int64\n",
      "-----------\n",
      "object_id                       int64\n",
      "creation_time                  object\n",
      "name                           object\n",
      "email                          object\n",
      "creation_source                object\n",
      "last_session_creation_time    float64\n",
      "opted_in_to_mailing_list        int64\n",
      "enabled_for_marketing_drip      int64\n",
      "org_id                          int64\n",
      "invited_by_user_id            float64\n",
      "dtype: object\n"
     ]
    }
   ],
   "source": [
    "#df_users dataset exploration\n",
    "print(\"dataframe shape: \" + str(df_users.shape))   #number of observations matches number of \"user_id\"\n",
    "print(\"-----------\")\n",
    "print(\"NaN values: \" + str(df_users.isna().sum()))\n",
    "print(\"-----------\")\n",
    "print(df_users.dtypes)"
   ]
  },
  {
   "cell_type": "markdown",
   "metadata": {},
   "source": [
    "*The two datasets have conflicting number of total observations*\n",
    "\n",
    "*Will need to convert feature data types to datetime objects*\n"
   ]
  },
  {
   "cell_type": "markdown",
   "metadata": {},
   "source": [
    "**Define: \"adopted user\" = user that has logged into the product three separate times in at least one seven-day period**\n",
    "\n",
    "*what features relate to this?\n",
    "\n",
    "how can the features and data be wrangled to indicate an \"adopted user\""
   ]
  },
  {
   "cell_type": "markdown",
   "metadata": {},
   "source": [
    "**Data Wrangling**"
   ]
  },
  {
   "cell_type": "code",
   "execution_count": 10,
   "metadata": {
    "scrolled": true
   },
   "outputs": [
    {
     "data": {
      "text/plain": [
       "time_stamp    datetime64[ns]\n",
       "user_id                int64\n",
       "visited                int64\n",
       "dtype: object"
      ]
     },
     "execution_count": 10,
     "metadata": {},
     "output_type": "execute_result"
    }
   ],
   "source": [
    "#convert \"time stamp\" to a Datetime object in df_engagement, day only value\n",
    "df_engagement[\"time_stamp\"] = pd.to_datetime(df_engagement[\"time_stamp\"]).dt.strftime(\"%Y-%m-%d\")\n",
    "df_engagement['time_stamp'] = pd.to_datetime(df_engagement['time_stamp'])\n",
    "\n",
    "df_engagement.dtypes"
   ]
  },
  {
   "cell_type": "code",
   "execution_count": 11,
   "metadata": {
    "scrolled": true
   },
   "outputs": [
    {
     "data": {
      "text/plain": [
       "1    207917\n",
       "Name: visited, dtype: int64"
      ]
     },
     "execution_count": 11,
     "metadata": {},
     "output_type": "execute_result"
    }
   ],
   "source": [
    "#value_counts() for \"visited\"\n",
    "df_engagement.visited.value_counts()  #\"visited\" values all equal to 1"
   ]
  },
  {
   "cell_type": "code",
   "execution_count": 12,
   "metadata": {},
   "outputs": [],
   "source": [
    "#create a function to identify a user as \"adopted\" based on a 7-day window\n",
    "seven_days = datetime.timedelta(7)\n",
    "adopted_dict = {}\n",
    "\n",
    "for user_id in sorted(list(df_engagement['user_id'].unique())):\n",
    "    \n",
    "    adopted_user = False\n",
    "    temp = df_engagement[df_engagement['user_id'] == user_id]\n",
    "    temp = temp.sort_values('time_stamp')\n",
    "    \n",
    "    for row in temp.itertuples():\n",
    "        if adopted_user == True:\n",
    "            continue\n",
    "        this_time = temp._get_value(row[0], 'time_stamp')\n",
    "        if len(temp[(temp['time_stamp'] >= this_time) & (temp['time_stamp'] <= (this_time + seven_days))]) >= 3:\n",
    "            adopted_user = True\n",
    "    \n",
    "    adopted_dict[user_id] = adopted_user"
   ]
  },
  {
   "cell_type": "code",
   "execution_count": 13,
   "metadata": {},
   "outputs": [
    {
     "name": "stdout",
     "output_type": "stream",
     "text": [
      "8823 unique users.\n"
     ]
    }
   ],
   "source": [
    "print(len(adopted_dict), 'unique users.')   #8823 unique users based on id number"
   ]
  },
  {
   "cell_type": "code",
   "execution_count": 14,
   "metadata": {},
   "outputs": [],
   "source": [
    "#create a side dataframe based on counts of the adopted_dict\n",
    "from collections import Counter\n",
    "counter_df = pd.DataFrame.from_dict(Counter(list(adopted_dict.values())), orient='index').reset_index()"
   ]
  },
  {
   "cell_type": "code",
   "execution_count": 15,
   "metadata": {},
   "outputs": [
    {
     "name": "stdout",
     "output_type": "stream",
     "text": [
      "   index     0\n",
      "0  False  7167\n",
      "1   True  1656\n",
      " \n",
      "% adopted users: 18.769126147568855\n"
     ]
    }
   ],
   "source": [
    "print(counter_df)  \n",
    "ratio = (1656 / (7167+1656)) *100\n",
    "print(\" \")\n",
    "print(\"% adopted users: \" + str(ratio))"
   ]
  },
  {
   "cell_type": "code",
   "execution_count": 16,
   "metadata": {
    "scrolled": true
   },
   "outputs": [
    {
     "data": {
      "text/html": [
       "<div>\n",
       "<style scoped>\n",
       "    .dataframe tbody tr th:only-of-type {\n",
       "        vertical-align: middle;\n",
       "    }\n",
       "\n",
       "    .dataframe tbody tr th {\n",
       "        vertical-align: top;\n",
       "    }\n",
       "\n",
       "    .dataframe thead th {\n",
       "        text-align: right;\n",
       "    }\n",
       "</style>\n",
       "<table border=\"1\" class=\"dataframe\">\n",
       "  <thead>\n",
       "    <tr style=\"text-align: right;\">\n",
       "      <th></th>\n",
       "      <th>object_id</th>\n",
       "      <th>creation_time</th>\n",
       "      <th>name</th>\n",
       "      <th>email</th>\n",
       "      <th>creation_source</th>\n",
       "      <th>last_session_creation_time</th>\n",
       "      <th>opted_in_to_mailing_list</th>\n",
       "      <th>enabled_for_marketing_drip</th>\n",
       "      <th>org_id</th>\n",
       "      <th>invited_by_user_id</th>\n",
       "      <th>adopted_user</th>\n",
       "    </tr>\n",
       "  </thead>\n",
       "  <tbody>\n",
       "    <tr>\n",
       "      <th>0</th>\n",
       "      <td>1</td>\n",
       "      <td>2014-04-22 03:53:30</td>\n",
       "      <td>Clausen August</td>\n",
       "      <td>AugustCClausen@yahoo.com</td>\n",
       "      <td>GUEST_INVITE</td>\n",
       "      <td>1.398139e+09</td>\n",
       "      <td>1</td>\n",
       "      <td>0</td>\n",
       "      <td>11</td>\n",
       "      <td>10803.0</td>\n",
       "      <td>False</td>\n",
       "    </tr>\n",
       "    <tr>\n",
       "      <th>1</th>\n",
       "      <td>2</td>\n",
       "      <td>2013-11-15 03:45:04</td>\n",
       "      <td>Poole Matthew</td>\n",
       "      <td>MatthewPoole@gustr.com</td>\n",
       "      <td>ORG_INVITE</td>\n",
       "      <td>1.396238e+09</td>\n",
       "      <td>0</td>\n",
       "      <td>0</td>\n",
       "      <td>1</td>\n",
       "      <td>316.0</td>\n",
       "      <td>False</td>\n",
       "    </tr>\n",
       "  </tbody>\n",
       "</table>\n",
       "</div>"
      ],
      "text/plain": [
       "   object_id        creation_time            name                     email  \\\n",
       "0          1  2014-04-22 03:53:30  Clausen August  AugustCClausen@yahoo.com   \n",
       "1          2  2013-11-15 03:45:04   Poole Matthew    MatthewPoole@gustr.com   \n",
       "\n",
       "  creation_source  last_session_creation_time  opted_in_to_mailing_list  \\\n",
       "0    GUEST_INVITE                1.398139e+09                         1   \n",
       "1      ORG_INVITE                1.396238e+09                         0   \n",
       "\n",
       "   enabled_for_marketing_drip  org_id  invited_by_user_id  adopted_user  \n",
       "0                           0      11             10803.0         False  \n",
       "1                           0       1               316.0         False  "
      ]
     },
     "execution_count": 16,
     "metadata": {},
     "output_type": "execute_result"
    }
   ],
   "source": [
    "#add new column in df_users for identifying a user as \"adopted_user\" True | False\n",
    "df_users['adopted_user'] = False\n",
    "df_users.head(2)"
   ]
  },
  {
   "cell_type": "code",
   "execution_count": 17,
   "metadata": {},
   "outputs": [],
   "source": [
    "#for-loop over df_users re: adopted_user values per observation\n",
    "for row in (df_users[np.logical_not(df_users['last_session_creation_time'].isnull())]).itertuples():\n",
    "    adopted_value = adopted_dict[df_users._get_value(row[0],'object_id')]\n",
    "    df_users._set_value(row[0], 'adopted_user',adopted_value)"
   ]
  },
  {
   "cell_type": "code",
   "execution_count": 18,
   "metadata": {
    "scrolled": true
   },
   "outputs": [
    {
     "name": "stdout",
     "output_type": "stream",
     "text": [
      "adopted_users out of total users: 13.8%\n"
     ]
    }
   ],
   "source": [
    "ratio = len(df_users[df_users['adopted_user'] == True]) / len(df_users)\n",
    "print(\"adopted_users out of total users: \" + str((ratio) *100) + \"%\")"
   ]
  },
  {
   "cell_type": "code",
   "execution_count": 22,
   "metadata": {
    "scrolled": false
   },
   "outputs": [
    {
     "name": "stdout",
     "output_type": "stream",
     "text": [
      "invited_by_user_id median, min, max values\n",
      "------\n",
      "5909.5\n",
      "3.0\n",
      "11999.0\n",
      "---------\n",
      "Null values: object_id                        0\n",
      "creation_time                    0\n",
      "name                             0\n",
      "email                            0\n",
      "creation_source                  0\n",
      "last_session_creation_time    3177\n",
      "opted_in_to_mailing_list         0\n",
      "enabled_for_marketing_drip       0\n",
      "org_id                           0\n",
      "invited_by_user_id               0\n",
      "adopted_user                     0\n",
      "dtype: int64\n"
     ]
    }
   ],
   "source": [
    "df_users.isna().sum()  #'last_session_creation_time' and \"invited_by_user_id\" have null-values\n",
    "\n",
    "print(\"invited_by_user_id median, min, max values\")\n",
    "print(\"------\")\n",
    "print(df_users['invited_by_user_id'].median())\n",
    "print(df_users['invited_by_user_id'].min())\n",
    "print(df_users['invited_by_user_id'].max())  #ffill vs back-fill\n",
    "col_ffill = ['invited_by_user_id']\n",
    "df_users.loc[:,col_ffill] = df_users.loc[:,col_ffill].ffill()\n",
    "print(\"---------\")\n",
    "print(\"Null values: \" + str(df_users.isna().sum()))   #fill the na-values in \"last_session_creation_time\""
   ]
  },
  {
   "cell_type": "code",
   "execution_count": null,
   "metadata": {},
   "outputs": [],
   "source": [
    "ffill1 = ['last_session_creation_time']\n",
    "df.loc[:,ffill1] = df.loc[:,ffill1].ffill()"
   ]
  },
  {
   "cell_type": "code",
   "execution_count": 23,
   "metadata": {},
   "outputs": [
    {
     "data": {
      "text/plain": [
       "object_id                              int64\n",
       "creation_time                 datetime64[ns]\n",
       "name                                  object\n",
       "email                                 object\n",
       "creation_source                       object\n",
       "last_session_creation_time    datetime64[ns]\n",
       "opted_in_to_mailing_list               int64\n",
       "enabled_for_marketing_drip             int64\n",
       "org_id                                 int64\n",
       "invited_by_user_id                   float64\n",
       "adopted_user                            bool\n",
       "dtype: object"
      ]
     },
     "execution_count": 23,
     "metadata": {},
     "output_type": "execute_result"
    }
   ],
   "source": [
    "#convert \"last_Session_creation_time\" to datetime, rename to \"creation_time\"\n",
    "df_users['last_session_creation_time'] = pd.to_datetime(df_users['last_session_creation_time'])  \n",
    "df_users['creation_time'] = pd.to_datetime(df_users['creation_time']).dt.strftime(\"%Y-%m-%d\")\n",
    "df_users['creation_time'] = pd.to_datetime(df_users['creation_time'])\n",
    "df_users.dtypes"
   ]
  },
  {
   "cell_type": "code",
   "execution_count": 31,
   "metadata": {
    "scrolled": false
   },
   "outputs": [
    {
     "data": {
      "image/png": "[encoded data removed]",
      "text/plain": [
       "<Figure size 432x288 with 1 Axes>"
      ]
     },
     "metadata": {
      "needs_background": "light"
     },
     "output_type": "display_data"
    }
   ],
   "source": [
    "#visualization of non-adopted vs adopted users\n",
    "sns.barplot(x=list(df_users['adopted_user'].value_counts().index), \n",
    "           y=df_users['adopted_user'].value_counts())\n",
    "plt.ylabel(\"total counts\")\n",
    "plt.xlabel(\"False - Not Adopted User | True - Adopted User\")\n",
    "plt.title(\"Not-Adopted vs. Adopted Users\")\n",
    "plt.savefig(\"Adopted_vs.NonAdopted_count.png\")"
   ]
  },
  {
   "cell_type": "code",
   "execution_count": 36,
   "metadata": {},
   "outputs": [
    {
     "data": {
      "text/plain": [
       "Index(['object_id', 'creation_time', 'name', 'email', 'creation_source',\n",
       "       'last_session_creation_time', 'opted_in_to_mailing_list',\n",
       "       'enabled_for_marketing_drip', 'org_id', 'invited_by_user_id',\n",
       "       'adopted_user'],\n",
       "      dtype='object')"
      ]
     },
     "execution_count": 36,
     "metadata": {},
     "output_type": "execute_result"
    }
   ],
   "source": [
    "df_users.columns"
   ]
  },
  {
   "cell_type": "code",
   "execution_count": 37,
   "metadata": {},
   "outputs": [
    {
     "data": {
      "text/html": [
       "<div>\n",
       "<style scoped>\n",
       "    .dataframe tbody tr th:only-of-type {\n",
       "        vertical-align: middle;\n",
       "    }\n",
       "\n",
       "    .dataframe tbody tr th {\n",
       "        vertical-align: top;\n",
       "    }\n",
       "\n",
       "    .dataframe thead th {\n",
       "        text-align: right;\n",
       "    }\n",
       "</style>\n",
       "<table border=\"1\" class=\"dataframe\">\n",
       "  <thead>\n",
       "    <tr style=\"text-align: right;\">\n",
       "      <th></th>\n",
       "      <th>object_id</th>\n",
       "      <th>creation_time</th>\n",
       "      <th>creation_source</th>\n",
       "      <th>opted_in_to_mailing_list</th>\n",
       "      <th>enabled_for_marketing_drip</th>\n",
       "      <th>org_id</th>\n",
       "      <th>invited_by_user_id</th>\n",
       "      <th>adopted_user</th>\n",
       "    </tr>\n",
       "  </thead>\n",
       "  <tbody>\n",
       "    <tr>\n",
       "      <th>0</th>\n",
       "      <td>1</td>\n",
       "      <td>2014-04-22</td>\n",
       "      <td>GUEST_INVITE</td>\n",
       "      <td>1</td>\n",
       "      <td>0</td>\n",
       "      <td>11</td>\n",
       "      <td>10803.0</td>\n",
       "      <td>False</td>\n",
       "    </tr>\n",
       "    <tr>\n",
       "      <th>1</th>\n",
       "      <td>2</td>\n",
       "      <td>2013-11-15</td>\n",
       "      <td>ORG_INVITE</td>\n",
       "      <td>0</td>\n",
       "      <td>0</td>\n",
       "      <td>1</td>\n",
       "      <td>316.0</td>\n",
       "      <td>True</td>\n",
       "    </tr>\n",
       "    <tr>\n",
       "      <th>2</th>\n",
       "      <td>3</td>\n",
       "      <td>2013-03-19</td>\n",
       "      <td>ORG_INVITE</td>\n",
       "      <td>0</td>\n",
       "      <td>0</td>\n",
       "      <td>94</td>\n",
       "      <td>1525.0</td>\n",
       "      <td>False</td>\n",
       "    </tr>\n",
       "    <tr>\n",
       "      <th>3</th>\n",
       "      <td>4</td>\n",
       "      <td>2013-05-21</td>\n",
       "      <td>GUEST_INVITE</td>\n",
       "      <td>0</td>\n",
       "      <td>0</td>\n",
       "      <td>1</td>\n",
       "      <td>5151.0</td>\n",
       "      <td>False</td>\n",
       "    </tr>\n",
       "    <tr>\n",
       "      <th>4</th>\n",
       "      <td>5</td>\n",
       "      <td>2013-01-17</td>\n",
       "      <td>GUEST_INVITE</td>\n",
       "      <td>0</td>\n",
       "      <td>0</td>\n",
       "      <td>193</td>\n",
       "      <td>5240.0</td>\n",
       "      <td>False</td>\n",
       "    </tr>\n",
       "  </tbody>\n",
       "</table>\n",
       "</div>"
      ],
      "text/plain": [
       "   object_id creation_time creation_source  opted_in_to_mailing_list  \\\n",
       "0          1    2014-04-22    GUEST_INVITE                         1   \n",
       "1          2    2013-11-15      ORG_INVITE                         0   \n",
       "2          3    2013-03-19      ORG_INVITE                         0   \n",
       "3          4    2013-05-21    GUEST_INVITE                         0   \n",
       "4          5    2013-01-17    GUEST_INVITE                         0   \n",
       "\n",
       "   enabled_for_marketing_drip  org_id  invited_by_user_id  adopted_user  \n",
       "0                           0      11             10803.0         False  \n",
       "1                           0       1               316.0          True  \n",
       "2                           0      94              1525.0         False  \n",
       "3                           0       1              5151.0         False  \n",
       "4                           0     193              5240.0         False  "
      ]
     },
     "execution_count": 37,
     "metadata": {},
     "output_type": "execute_result"
    }
   ],
   "source": [
    "#subset dataframe \n",
    "df = df_users[['object_id', 'creation_time', 'creation_source','opted_in_to_mailing_list','enabled_for_marketing_drip', 'org_id', 'invited_by_user_id','adopted_user']]\n",
    "df.head()"
   ]
  },
  {
   "cell_type": "markdown",
   "metadata": {},
   "source": [
    "**Preprocessing discrete variables**"
   ]
  },
  {
   "cell_type": "code",
   "execution_count": 38,
   "metadata": {},
   "outputs": [
    {
     "data": {
      "text/html": [
       "<div>\n",
       "<style scoped>\n",
       "    .dataframe tbody tr th:only-of-type {\n",
       "        vertical-align: middle;\n",
       "    }\n",
       "\n",
       "    .dataframe tbody tr th {\n",
       "        vertical-align: top;\n",
       "    }\n",
       "\n",
       "    .dataframe thead th {\n",
       "        text-align: right;\n",
       "    }\n",
       "</style>\n",
       "<table border=\"1\" class=\"dataframe\">\n",
       "  <thead>\n",
       "    <tr style=\"text-align: right;\">\n",
       "      <th></th>\n",
       "      <th>object_id</th>\n",
       "      <th>creation_time</th>\n",
       "      <th>opted_in_to_mailing_list</th>\n",
       "      <th>enabled_for_marketing_drip</th>\n",
       "      <th>org_id</th>\n",
       "      <th>invited_by_user_id</th>\n",
       "      <th>adopted_user</th>\n",
       "      <th>creation_source_GUEST_INVITE</th>\n",
       "      <th>creation_source_ORG_INVITE</th>\n",
       "      <th>creation_source_PERSONAL_PROJECTS</th>\n",
       "      <th>creation_source_SIGNUP</th>\n",
       "      <th>creation_source_SIGNUP_GOOGLE_AUTH</th>\n",
       "    </tr>\n",
       "  </thead>\n",
       "  <tbody>\n",
       "    <tr>\n",
       "      <th>0</th>\n",
       "      <td>1</td>\n",
       "      <td>2014-04-22</td>\n",
       "      <td>1</td>\n",
       "      <td>0</td>\n",
       "      <td>11</td>\n",
       "      <td>10803.0</td>\n",
       "      <td>False</td>\n",
       "      <td>1</td>\n",
       "      <td>0</td>\n",
       "      <td>0</td>\n",
       "      <td>0</td>\n",
       "      <td>0</td>\n",
       "    </tr>\n",
       "    <tr>\n",
       "      <th>1</th>\n",
       "      <td>2</td>\n",
       "      <td>2013-11-15</td>\n",
       "      <td>0</td>\n",
       "      <td>0</td>\n",
       "      <td>1</td>\n",
       "      <td>316.0</td>\n",
       "      <td>True</td>\n",
       "      <td>0</td>\n",
       "      <td>1</td>\n",
       "      <td>0</td>\n",
       "      <td>0</td>\n",
       "      <td>0</td>\n",
       "    </tr>\n",
       "  </tbody>\n",
       "</table>\n",
       "</div>"
      ],
      "text/plain": [
       "   object_id creation_time  opted_in_to_mailing_list  \\\n",
       "0          1    2014-04-22                         1   \n",
       "1          2    2013-11-15                         0   \n",
       "\n",
       "   enabled_for_marketing_drip  org_id  invited_by_user_id  adopted_user  \\\n",
       "0                           0      11             10803.0         False   \n",
       "1                           0       1               316.0          True   \n",
       "\n",
       "   creation_source_GUEST_INVITE  creation_source_ORG_INVITE  \\\n",
       "0                             1                           0   \n",
       "1                             0                           1   \n",
       "\n",
       "   creation_source_PERSONAL_PROJECTS  creation_source_SIGNUP  \\\n",
       "0                                  0                       0   \n",
       "1                                  0                       0   \n",
       "\n",
       "   creation_source_SIGNUP_GOOGLE_AUTH  \n",
       "0                                   0  \n",
       "1                                   0  "
      ]
     },
     "execution_count": 38,
     "metadata": {},
     "output_type": "execute_result"
    }
   ],
   "source": [
    "#categorical variable encoding: \"creation_source\"\n",
    "df = pd.get_dummies(df, columns=['creation_source'])\n",
    "df.head(2)"
   ]
  },
  {
   "cell_type": "code",
   "execution_count": 39,
   "metadata": {},
   "outputs": [
    {
     "name": "stdout",
     "output_type": "stream",
     "text": [
      "X: 12000\n",
      "y: 12000\n"
     ]
    }
   ],
   "source": [
    "#train test split, define X, y\n",
    "from sklearn.model_selection import train_test_split\n",
    "\n",
    "X = df[['opted_in_to_mailing_list','enabled_for_marketing_drip','org_id','invited_by_user_id','creation_source_GUEST_INVITE',\n",
    "       'creation_source_ORG_INVITE','creation_source_PERSONAL_PROJECTS','creation_source_SIGNUP','creation_source_SIGNUP_GOOGLE_AUTH']]\n",
    "\n",
    "y = df['adopted_user']\n",
    "\n",
    "X_train, X_test, y_train, y_test = train_test_split(X, y, test_size=0.30,random_state=42)"
   ]
  },
  {
   "cell_type": "code",
   "execution_count": 41,
   "metadata": {},
   "outputs": [
    {
     "name": "stdout",
     "output_type": "stream",
     "text": [
      "[(False, 10344), (True, 10344)]\n"
     ]
    }
   ],
   "source": [
    "#balancing the dataset for adopted/non-adopted users\n",
    "from imblearn.over_sampling import SMOTE, ADASYN\n",
    "sm = SMOTE(sampling_strategy='auto')\n",
    "\n",
    "X_res, y_res = sm.fit_resample(X, y)\n",
    "\n",
    "print(sorted(Counter(y_res).items()))"
   ]
  },
  {
   "cell_type": "code",
   "execution_count": 44,
   "metadata": {
    "scrolled": true
   },
   "outputs": [
    {
     "name": "stderr",
     "output_type": "stream",
     "text": [
      "C:\\Users\\srubin\\Anaconda3\\lib\\site-packages\\seaborn\\_decorators.py:43: FutureWarning: Pass the following variable as a keyword arg: x. From version 0.12, the only valid positional argument will be `data`, and passing other arguments without an explicit keyword will result in an error or misinterpretation.\n",
      "  FutureWarning\n"
     ]
    },
    {
     "data": {
      "image/png": "[encoded data removed]",
      "text/plain": [
       "<Figure size 432x288 with 1 Axes>"
      ]
     },
     "metadata": {
      "needs_background": "light"
     },
     "output_type": "display_data"
    }
   ],
   "source": [
    "sns.countplot(y_res)\n",
    "plt.title(\"A Balanced Dataset: Adopted vs Not-Adopted Users\")\n",
    "plt.savefig(\"Balanced_dataset_SMOTE.png\")"
   ]
  },
  {
   "cell_type": "markdown",
   "metadata": {},
   "source": [
    "**Model Development and Build**"
   ]
  },
  {
   "cell_type": "code",
   "execution_count": 45,
   "metadata": {},
   "outputs": [],
   "source": [
    "#import multiple m/l models, packages, and metrics\n",
    "from sklearn.metrics import roc_curve, auc, accuracy_score, confusion_matrix\n",
    "from sklearn.model_selection import GridSearchCV, KFold, cross_val_score, cross_validate\n",
    "from sklearn.ensemble import RandomForestClassifier\n",
    "from sklearn.neighbors import KNeighborsClassifier\n",
    "from sklearn.svm import SVC\n",
    "from sklearn.linear_model import LogisticRegression\n",
    "from sklearn.tree import DecisionTreeClassifier\n",
    "from sklearn.naive_bayes import GaussianNB\n",
    "from sklearn.ensemble import RandomForestClassifier\n",
    "from sklearn.ensemble import GradientBoostingClassifier\n",
    "from tqdm import tqdm"
   ]
  },
  {
   "cell_type": "code",
   "execution_count": 46,
   "metadata": {},
   "outputs": [],
   "source": [
    "models = []\n",
    "models.append(('KNN', KNeighborsClassifier()))\n",
    "models.append(('SVC', SVC()))\n",
    "models.append(('LogReg', LogisticRegression()))\n",
    "models.append(('DT',DecisionTreeClassifier() ))\n",
    "models.append(('GNB', GaussianNB()))\n",
    "models.append(('RF', RandomForestClassifier()))\n",
    "models.append(('GBC', GradientBoostingClassifier()))"
   ]
  },
  {
   "cell_type": "code",
   "execution_count": 47,
   "metadata": {},
   "outputs": [
    {
     "name": "stderr",
     "output_type": "stream",
     "text": [
      "100%|████████████████████████████████████████████████████████████████████████████████████| 7/7 [00:10<00:00,  1.55s/it]"
     ]
    },
    {
     "name": "stdout",
     "output_type": "stream",
     "text": [
      "     Name     Score\n",
      "0     KNN  0.844167\n",
      "1     SVC  0.861111\n",
      "2  LogReg  0.861111\n",
      "3      DT  0.769444\n",
      "4     GNB  0.860833\n",
      "5      RF  0.833611\n",
      "6     GBC  0.860278\n"
     ]
    },
    {
     "name": "stderr",
     "output_type": "stream",
     "text": [
      "\n"
     ]
    }
   ],
   "source": [
    "names = []\n",
    "scores = []\n",
    "\n",
    "for name, model in tqdm(models):\n",
    "    model.fit(X_train, y_train)\n",
    "    y_pred = model.predict(X_test)\n",
    "    scores.append(accuracy_score(y_test, y_pred))\n",
    "    names.append(name)\n",
    "tr_split = pd.DataFrame({'Name': names, 'Score': scores})\n",
    "print(tr_split)"
   ]
  },
  {
   "cell_type": "code",
   "execution_count": 48,
   "metadata": {},
   "outputs": [
    {
     "name": "stderr",
     "output_type": "stream",
     "text": [
      "100%|████████████████████████████████████████████████████████████████████████████████████| 7/7 [00:58<00:00,  8.33s/it]"
     ]
    },
    {
     "name": "stdout",
     "output_type": "stream",
     "text": [
      "  Model_Name  Model_Scores\n",
      "0        KNN      0.842833\n",
      "1        SVC      0.862000\n",
      "2     LogReg      0.862000\n",
      "3         DT      0.774250\n",
      "4        GNB      0.862000\n",
      "5         RF      0.832500\n",
      "6        GBC      0.861583\n"
     ]
    },
    {
     "name": "stderr",
     "output_type": "stream",
     "text": [
      "\n"
     ]
    }
   ],
   "source": [
    "#cross validation with n_splits-5\n",
    "names = []\n",
    "scores = []\n",
    "\n",
    "for name, model in tqdm(models):\n",
    "    k_fold = KFold(n_splits=5, random_state=42, shuffle=True)\n",
    "    score = cross_val_score(model, X,y, cv=k_fold, scoring='accuracy').mean()\n",
    "    names.append(name)\n",
    "    scores.append(score)\n",
    "\n",
    "cross_val = pd.DataFrame({'Model_Name': names, 'Model_Scores': scores})\n",
    "print(cross_val)"
   ]
  },
  {
   "cell_type": "code",
   "execution_count": 49,
   "metadata": {
    "scrolled": true
   },
   "outputs": [
    {
     "name": "stderr",
     "output_type": "stream",
     "text": [
      "100%|████████████████████████████████████████████████████████████████████████████████████| 7/7 [01:53<00:00, 16.16s/it]"
     ]
    },
    {
     "name": "stdout",
     "output_type": "stream",
     "text": [
      "  Model_Name  Model_Scores\n",
      "0        KNN      0.845000\n",
      "1        SVC      0.862000\n",
      "2     LogReg      0.862000\n",
      "3         DT      0.775750\n",
      "4        GNB      0.862000\n",
      "5         RF      0.830000\n",
      "6        GBC      0.861667\n"
     ]
    },
    {
     "name": "stderr",
     "output_type": "stream",
     "text": [
      "\n"
     ]
    }
   ],
   "source": [
    "#cross validation with n_splits-10\n",
    "names = []\n",
    "scores = []\n",
    "\n",
    "for name, model in tqdm(models):\n",
    "    k_fold = KFold(n_splits=10, random_state=42, shuffle=True)\n",
    "    score = cross_val_score(model, X,y, cv=k_fold, scoring='accuracy').mean()\n",
    "    names.append(name)\n",
    "    scores.append(score)\n",
    "\n",
    "cross_val = pd.DataFrame({'Model_Name': names, 'Model_Scores': scores})\n",
    "print(cross_val)"
   ]
  },
  {
   "cell_type": "markdown",
   "metadata": {},
   "source": [
    "**Select LogReg and Gausiian models because they the highest 2/3 scores after cross-validation on n_folds-10**"
   ]
  },
  {
   "cell_type": "code",
   "execution_count": 53,
   "metadata": {},
   "outputs": [
    {
     "name": "stdout",
     "output_type": "stream",
     "text": [
      "0.8611111111111112\n"
     ]
    }
   ],
   "source": [
    "LogReg = LogisticRegression()\n",
    "LogReg.fit(X_train, y_train)\n",
    "predictions = LogReg.predict(X_test)\n",
    "LogReg_score = LogReg.score(X_test, y_test)\n",
    "print(LogReg_score)\n",
    "print(\"----------\")\n",
    "cm = confusion_matrix(y_test, predictions)\n",
    "print(cm)"
   ]
  },
  {
   "cell_type": "code",
   "execution_count": 58,
   "metadata": {},
   "outputs": [
    {
     "data": {
      "text/plain": [
       "<AxesSubplot:>"
      ]
     },
     "execution_count": 58,
     "metadata": {},
     "output_type": "execute_result"
    },
    {
     "data": {
      "image/png": "[encoded data removed]",
      "text/plain": [
       "<Figure size 432x288 with 1 Axes>"
      ]
     },
     "metadata": {
      "needs_background": "light"
     },
     "output_type": "display_data"
    }
   ],
   "source": [
    "#Logistic Regression feature importance\n",
    "importance = LogReg.coef_[0]\n",
    "features = pd.Series(importance, index=X.columns)\n",
    "sns.barplot(y=X.columns, x=importance)"
   ]
  },
  {
   "cell_type": "code",
   "execution_count": 60,
   "metadata": {},
   "outputs": [
    {
     "name": "stdout",
     "output_type": "stream",
     "text": [
      "{'C': 0.001} 0.8623809523809524\n"
     ]
    }
   ],
   "source": [
    "#parameter tuning\n",
    "param_test = {'C':[0.001,0.01,0.1,1,10,100,1000]}\n",
    "gridSearch = GridSearchCV(LogisticRegression(penalty='l2'), param_test)\n",
    "gridSearch.fit(X_train, y_train)\n",
    "gridSearch.fit(X_train,y_train)\n",
    "\n",
    "print(gridSearch.best_params_, gridSearch.best_score_)"
   ]
  },
  {
   "cell_type": "code",
   "execution_count": 61,
   "metadata": {
    "scrolled": false
   },
   "outputs": [
    {
     "name": "stdout",
     "output_type": "stream",
     "text": [
      "0.8623809523809524\n",
      " \n",
      "0.8611111111111112\n"
     ]
    }
   ],
   "source": [
    "print(gridSearch.score(X_train, y_train))\n",
    "print(\" \")\n",
    "print(gridSearch.score(X_test, y_test))"
   ]
  },
  {
   "cell_type": "code",
   "execution_count": 62,
   "metadata": {
    "scrolled": true
   },
   "outputs": [
    {
     "name": "stdout",
     "output_type": "stream",
     "text": [
      "      Iter       Train Loss   Remaining Time \n",
      "         1           0.7983            1.38s\n",
      "         2           0.7958            1.67s\n",
      "         3           0.7937            1.70s\n",
      "         4           0.7920            1.62s\n",
      "         5           0.7905            1.63s\n",
      "         6           0.7891            1.62s\n",
      "         7           0.7877            1.60s\n",
      "         8           0.7866            1.59s\n",
      "         9           0.7855            1.57s\n",
      "        10           0.7845            1.53s\n",
      "        20           0.7767            1.30s\n",
      "        30           0.7712            1.13s\n",
      "        40           0.7672            0.95s\n",
      "        50           0.7639            0.80s\n",
      "        60           0.7602            0.63s\n",
      "        70           0.7568            0.47s\n",
      "        80           0.7526            0.31s\n",
      "        90           0.7492            0.16s\n",
      "       100           0.7461            0.00s\n",
      "GBC Train Score: 0.8635714285714285\n",
      "-----------\n",
      "GBC Test Score: 0.8602777777777778\n"
     ]
    }
   ],
   "source": [
    "#GNB modeling\n",
    "GBC = GradientBoostingClassifier(verbose=True)\n",
    "GBC.fit(X_train, y_train)\n",
    "print(\"GBC Train Score: \" + str(GBC.score(X_train, y_train)))\n",
    "print(\"-----------\")\n",
    "print(\"GBC Test Score: \" + str(GBC.score(X_test, y_test)))"
   ]
  },
  {
   "cell_type": "code",
   "execution_count": 63,
   "metadata": {},
   "outputs": [
    {
     "data": {
      "text/plain": [
       "array([[3097,    3],\n",
       "       [ 500,    0]], dtype=int64)"
      ]
     },
     "execution_count": 63,
     "metadata": {},
     "output_type": "execute_result"
    }
   ],
   "source": [
    "#GBC confusion matrix\n",
    "confusion_matrix(y_test, GBC.predict(X_test))"
   ]
  },
  {
   "cell_type": "code",
   "execution_count": 68,
   "metadata": {},
   "outputs": [
    {
     "name": "stdout",
     "output_type": "stream",
     "text": [
      "Shape of GBC features: (9,)\n"
     ]
    },
    {
     "data": {
      "image/png": "[encoded data removed]",
      "text/plain": [
       "<Figure size 432x288 with 1 Axes>"
      ]
     },
     "metadata": {
      "needs_background": "light"
     },
     "output_type": "display_data"
    }
   ],
   "source": [
    "print(\"Shape of GBC features: \" + str(GBC.feature_importances_.shape))\n",
    "\n",
    "features = pd.Series(GBC.feature_importances_, index=X.columns)\n",
    "sns.barplot(y=X.columns, x=GBC.feature_importances_)\n",
    "plt.savefig(\"GBC Feature Importance.png\")"
   ]
  },
  {
   "cell_type": "code",
   "execution_count": 72,
   "metadata": {},
   "outputs": [
    {
     "data": {
      "text/plain": [
       "GridSearchCV(cv=10,\n",
       "             estimator=GradientBoostingClassifier(max_depth=8,\n",
       "                                                  max_features='sqrt',\n",
       "                                                  min_samples_leaf=50,\n",
       "                                                  min_samples_split=500,\n",
       "                                                  random_state=42,\n",
       "                                                  subsample=0.8),\n",
       "             n_jobs=4, param_grid={'n_estimators': range(20, 81, 10)},\n",
       "             scoring='roc_auc')"
      ]
     },
     "execution_count": 72,
     "metadata": {},
     "output_type": "execute_result"
    }
   ],
   "source": [
    "GBC_paramTest = {'n_estimators':range(20,81,10)}\n",
    "GBC_search = GridSearchCV(estimator = GradientBoostingClassifier(learning_rate=0.1, \n",
    "                                                                min_samples_split=500,\n",
    "                                                               min_samples_leaf=50,\n",
    "                                                               max_depth=8,\n",
    "                                                               max_features='sqrt',\n",
    "                                                               subsample=0.8,\n",
    "                                                               random_state=42), \n",
    "param_grid = GBC_paramTest, scoring='roc_auc',n_jobs=4, cv=10)\n",
    "\n",
    "GBC_search.fit(X_train,y_train)"
   ]
  },
  {
   "cell_type": "code",
   "execution_count": 76,
   "metadata": {},
   "outputs": [
    {
     "name": "stdout",
     "output_type": "stream",
     "text": [
      "{'n_estimators': 20} 0.5777882294350063\n"
     ]
    }
   ],
   "source": [
    "print( GBC_search.best_params_, GBC_search.best_score_)"
   ]
  },
  {
   "cell_type": "code",
   "execution_count": 77,
   "metadata": {},
   "outputs": [],
   "source": [
    "GBC_tuned = GradientBoostingClassifier(learning_rate=0.05, \n",
    "                                      n_estimators=20,\n",
    "                                      max_features='auto',\n",
    "                                      subsample=0.85,\n",
    "                                      max_depth=8,\n",
    "                                      min_samples_split=500,\n",
    "                                      random_state=42,\n",
    "                                      verbose=True)"
   ]
  },
  {
   "cell_type": "code",
   "execution_count": 78,
   "metadata": {
    "scrolled": true
   },
   "outputs": [
    {
     "name": "stdout",
     "output_type": "stream",
     "text": [
      "      Iter       Train Loss      OOB Improve   Remaining Time \n",
      "         1           0.7922           0.0023            0.69s\n",
      "         2           0.7903           0.0015            0.55s\n",
      "         3           0.7886           0.0012            0.52s\n",
      "         4           0.7930           0.0007            0.51s\n",
      "         5           0.7822           0.0007            0.47s\n",
      "         6           0.7908           0.0005            0.44s\n",
      "         7           0.7836           0.0001            0.41s\n",
      "         8           0.7774           0.0004            0.37s\n",
      "         9           0.7833          -0.0002            0.34s\n",
      "        10           0.7729          -0.0004            0.31s\n",
      "        20           0.7578          -0.0003            0.00s\n"
     ]
    },
    {
     "data": {
      "text/plain": [
       "GradientBoostingClassifier(learning_rate=0.05, max_depth=8, max_features='auto',\n",
       "                           min_samples_split=500, n_estimators=20,\n",
       "                           random_state=42, subsample=0.85, verbose=True)"
      ]
     },
     "execution_count": 78,
     "metadata": {},
     "output_type": "execute_result"
    }
   ],
   "source": [
    "GBC_tuned.fit(X_train, y_train)"
   ]
  },
  {
   "cell_type": "code",
   "execution_count": 79,
   "metadata": {},
   "outputs": [
    {
     "name": "stdout",
     "output_type": "stream",
     "text": [
      "GBC_tuned train score: 0.8623809523809524\n",
      "--------\n",
      "GBC_tuned test score: 0.8611111111111112\n"
     ]
    }
   ],
   "source": [
    "print(\"GBC_tuned train score: \" + str(GBC_tuned.score(X_train, y_train)))\n",
    "print(\"--------\")\n",
    "print(\"GBC_tuned test score: \" + str(GBC_tuned.score(X_test, y_test)))"
   ]
  },
  {
   "cell_type": "markdown",
   "metadata": {},
   "source": [
    "**Conclusions & Discussion**"
   ]
  },
  {
   "cell_type": "markdown",
   "metadata": {},
   "source": [
    "The \"relax\" product has ~86% \"adopted users\" based on the given dataset. The goal is improving the rate of \"adopted users\" by first predicting that most critical features for predicting which users will become \"adopted\". There is strong evidence that if a user was invited by another user to use the \"relax\" product they will more likely become an adopted user, as indicated most obviously by the Gradient Boosting Classifier. In addition, both models selected suggest if they signed up for the marketing options, they would have increased changes of becoming an \"adopted user.\"The features relating to where the users signed up - \"creation_source\" - had minimal impact. \n",
    "\n",
    "Testing both Logistic Regression and Gradient Boosting Classifier models had similar accuracy scores (~86%), suggesting these predictive models are strongly predictive already. To improve model accuracy, incorporating more demographic features of the users and incorporating finer details of the date and time of the user signup information may provide improvements without further model tuning. \n",
    "\n",
    "My recommendation would be to focus on the origin of how the users signed up and focus on marketing and providing more opportunities for existing users to promote new users through recommendations.\n"
   ]
  }
 ],
 "metadata": {
  "kernelspec": {
   "display_name": "Python 3",
   "language": "python",
   "name": "python3"
  },
  "language_info": {
   "codemirror_mode": {
    "name": "ipython",
    "version": 3
   },
   "file_extension": ".py",
   "mimetype": "text/x-python",
   "name": "python",
   "nbconvert_exporter": "python",
   "pygments_lexer": "ipython3",
   "version": "3.7.6"
  }
 },
 "nbformat": 4,
 "nbformat_minor": 4
}
